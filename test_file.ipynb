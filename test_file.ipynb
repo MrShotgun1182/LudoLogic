{
 "cells": [
  {
   "cell_type": "code",
   "execution_count": 18,
   "id": "67ebf6db",
   "metadata": {},
   "outputs": [
    {
     "data": {
      "text/plain": [
       "['a', 'a', 'a', 'a', 'b', 'b', 'b', 'b', 'c', 'c', 'c', 'c']"
      ]
     },
     "execution_count": 18,
     "metadata": {},
     "output_type": "execute_result"
    }
   ],
   "source": [
    "player_mode = [\"a\", \"b\", \"c\"]\n",
    "pawns_mode = [mode for mode in player_mode for _ in range(4)]\n",
    "\n",
    "pawns_mode"
   ]
  },
  {
   "cell_type": "code",
   "execution_count": 10,
   "id": "7b8d9ef4",
   "metadata": {},
   "outputs": [
    {
     "data": {
      "text/plain": [
       "['p0_pawn0',\n",
       " 'p0_pawn1',\n",
       " 'p0_pawn2',\n",
       " 'p0_pawn3',\n",
       " 'p1_pawn0',\n",
       " 'p1_pawn1',\n",
       " 'p1_pawn2',\n",
       " 'p1_pawn3',\n",
       " 'p2_pawn0',\n",
       " 'p2_pawn1',\n",
       " 'p2_pawn2',\n",
       " 'p2_pawn3',\n",
       " 'p3_pawn0',\n",
       " 'p3_pawn1',\n",
       " 'p3_pawn2',\n",
       " 'p3_pawn3']"
      ]
     },
     "execution_count": 10,
     "metadata": {},
     "output_type": "execute_result"
    }
   ],
   "source": [
    "num_player = 4\n",
    "pawn = [F\"p{i}_pawn{j}\" for i in range(num_player) for j in range(4)]\n",
    "pawn"
   ]
  },
  {
   "cell_type": "code",
   "execution_count": null,
   "id": "10d0797b",
   "metadata": {},
   "outputs": [
    {
     "data": {
      "text/html": [
       "<div>\n",
       "<style scoped>\n",
       "    .dataframe tbody tr th:only-of-type {\n",
       "        vertical-align: middle;\n",
       "    }\n",
       "\n",
       "    .dataframe tbody tr th {\n",
       "        vertical-align: top;\n",
       "    }\n",
       "\n",
       "    .dataframe thead th {\n",
       "        text-align: right;\n",
       "    }\n",
       "</style>\n",
       "<table border=\"1\" class=\"dataframe\">\n",
       "  <thead>\n",
       "    <tr style=\"text-align: right;\">\n",
       "      <th></th>\n",
       "      <th>pawn_id</th>\n",
       "      <th>mode</th>\n",
       "      <th>loc</th>\n",
       "    </tr>\n",
       "  </thead>\n",
       "  <tbody>\n",
       "    <tr>\n",
       "      <th>0</th>\n",
       "      <td>p0_pawn0</td>\n",
       "      <td>Strategy</td>\n",
       "      <td>not_in_game</td>\n",
       "    </tr>\n",
       "    <tr>\n",
       "      <th>1</th>\n",
       "      <td>p0_pawn1</td>\n",
       "      <td>Strategy</td>\n",
       "      <td>not_in_game</td>\n",
       "    </tr>\n",
       "    <tr>\n",
       "      <th>2</th>\n",
       "      <td>p0_pawn2</td>\n",
       "      <td>Strategy</td>\n",
       "      <td>not_in_game</td>\n",
       "    </tr>\n",
       "    <tr>\n",
       "      <th>3</th>\n",
       "      <td>p0_pawn3</td>\n",
       "      <td>Strategy</td>\n",
       "      <td>not_in_game</td>\n",
       "    </tr>\n",
       "    <tr>\n",
       "      <th>4</th>\n",
       "      <td>p1_pawn0</td>\n",
       "      <td>kind</td>\n",
       "      <td>not_in_game</td>\n",
       "    </tr>\n",
       "    <tr>\n",
       "      <th>5</th>\n",
       "      <td>p1_pawn1</td>\n",
       "      <td>kind</td>\n",
       "      <td>not_in_game</td>\n",
       "    </tr>\n",
       "    <tr>\n",
       "      <th>6</th>\n",
       "      <td>p1_pawn2</td>\n",
       "      <td>kind</td>\n",
       "      <td>not_in_game</td>\n",
       "    </tr>\n",
       "    <tr>\n",
       "      <th>7</th>\n",
       "      <td>p1_pawn3</td>\n",
       "      <td>kind</td>\n",
       "      <td>not_in_game</td>\n",
       "    </tr>\n",
       "    <tr>\n",
       "      <th>8</th>\n",
       "      <td>p2_pawn0</td>\n",
       "      <td>aggressive</td>\n",
       "      <td>not_in_game</td>\n",
       "    </tr>\n",
       "    <tr>\n",
       "      <th>9</th>\n",
       "      <td>p2_pawn1</td>\n",
       "      <td>aggressive</td>\n",
       "      <td>not_in_game</td>\n",
       "    </tr>\n",
       "    <tr>\n",
       "      <th>10</th>\n",
       "      <td>p2_pawn2</td>\n",
       "      <td>aggressive</td>\n",
       "      <td>not_in_game</td>\n",
       "    </tr>\n",
       "    <tr>\n",
       "      <th>11</th>\n",
       "      <td>p2_pawn3</td>\n",
       "      <td>aggressive</td>\n",
       "      <td>not_in_game</td>\n",
       "    </tr>\n",
       "  </tbody>\n",
       "</table>\n",
       "</div>"
      ],
      "text/plain": [
       "     pawn_id        mode          loc\n",
       "0   p0_pawn0    Strategy  not_in_game\n",
       "1   p0_pawn1    Strategy  not_in_game\n",
       "2   p0_pawn2    Strategy  not_in_game\n",
       "3   p0_pawn3    Strategy  not_in_game\n",
       "4   p1_pawn0        kind  not_in_game\n",
       "5   p1_pawn1        kind  not_in_game\n",
       "6   p1_pawn2        kind  not_in_game\n",
       "7   p1_pawn3        kind  not_in_game\n",
       "8   p2_pawn0  aggressive  not_in_game\n",
       "9   p2_pawn1  aggressive  not_in_game\n",
       "10  p2_pawn2  aggressive  not_in_game\n",
       "11  p2_pawn3  aggressive  not_in_game"
      ]
     },
     "execution_count": 22,
     "metadata": {},
     "output_type": "execute_result"
    }
   ],
   "source": [
    "import pandas as pd\n",
    "import numpy as np\n",
    "\n",
    "class SmartPawn:\n",
    "    aggressive = {}\n",
    "    kind = {}\n",
    "    Strategy = {}\n",
    "    def __init__(self, player_mode):\n",
    "        self.num_player = len(player_mode)\n",
    "        pawns = [F\"p{i}_pawn{j}\" for i in range(self.num_player) for j in range(4)]\n",
    "        pawns_mode = [mode for mode in player_mode for _ in range(4)]\n",
    "        initial_loc = [\"not_in_game\" for _ in range(0, self.num_player*4)]\n",
    "        self.main_df = pd.DataFrame({\n",
    "            \"pawn_id\": pawns,\n",
    "            \"mode\": pawns_mode,\n",
    "            \"loc\": initial_loc\n",
    "        })\n",
    "    \n",
    "    def move(self, player, rolled_number):\n",
    "        target_pawns_df = self.main_df[~self.main_df['pawn_id'].str.startswith(F\"p{player}_\")]\n",
    "        can_hit\n",
    "\n",
    "    # private:\n",
    "    def __can_hit(self, pawn_id, rolled_number):\n",
    "\n",
    "\n",
    "\n",
    "test = SmartPawn(player_mode=[\"Strategy\", \"kind\", \"aggressive\"])\n",
    "test.main_df"
   ]
  },
  {
   "cell_type": "code",
   "execution_count": null,
   "id": "5304f24f",
   "metadata": {},
   "outputs": [],
   "source": []
  }
 ],
 "metadata": {
  "kernelspec": {
   "display_name": "Python 3",
   "language": "python",
   "name": "python3"
  },
  "language_info": {
   "codemirror_mode": {
    "name": "ipython",
    "version": 3
   },
   "file_extension": ".py",
   "mimetype": "text/x-python",
   "name": "python",
   "nbconvert_exporter": "python",
   "pygments_lexer": "ipython3",
   "version": "3.12.6"
  }
 },
 "nbformat": 4,
 "nbformat_minor": 5
}
